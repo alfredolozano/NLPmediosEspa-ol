{
 "cells": [
  {
   "cell_type": "markdown",
   "metadata": {},
   "source": [
    "# Bing news API queries"
   ]
  },
  {
   "cell_type": "markdown",
   "metadata": {},
   "source": [
    "In this document I'll query Bing news search API to gather a database with 3,000+ news within some specified keywords."
   ]
  },
  {
   "cell_type": "markdown",
   "metadata": {},
   "source": [
    "First you need to set up your API auth keys directly with Microsoft."
   ]
  },
  {
   "cell_type": "code",
   "execution_count": 12,
   "metadata": {
    "collapsed": false
   },
   "outputs": [],
   "source": [
    "import httplib, urllib, base64\n",
    "\n",
    "headers = {\n",
    "    # Request headers\n",
    "    'Ocp-Apim-Subscription-Key': 'INSERT-YOUR-KEY',\n",
    "}"
   ]
  },
  {
   "cell_type": "markdown",
   "metadata": {},
   "source": [
    "Next we want to specify keywords that will be explored."
   ]
  },
  {
   "cell_type": "code",
   "execution_count": 13,
   "metadata": {
    "collapsed": false
   },
   "outputs": [],
   "source": [
    "params = urllib.urlencode({\n",
    "    # Request parameters\n",
    "    'q': 'PAN+PRI+MORENA+PRD', # keywords\n",
    "    'count': '250',\n",
    "    'offset': '00',\n",
    "    'mkt': 'es-mx',\n",
    "    'safeSearch': 'Moderate',\n",
    "})\n"
   ]
  },
  {
   "cell_type": "markdown",
   "metadata": {},
   "source": [
    "Now we need to consider that we eill not get more than 100 news per transaction, so we want to handle the offset values so next the next time we make a call we are not getting duplicated data.\n",
    "I also considered pausing the system so we won't exceed transaction per minute limit (even though I'm only aware of my monthly constraint). "
   ]
  },
  {
   "cell_type": "code",
   "execution_count": 24,
   "metadata": {
    "collapsed": false
   },
   "outputs": [
    {
     "name": "stdout",
     "output_type": "stream",
     "text": [
      "1042\n",
      "1079\n",
      "1115\n",
      "1153\n",
      "1190\n",
      "1228\n",
      "1266\n",
      "1304\n",
      "1343\n",
      "1382\n",
      "1419\n",
      "1458\n",
      "1497\n",
      "1536\n",
      "1575\n",
      "1614\n",
      "1652\n",
      "1690\n",
      "1729\n",
      "1766\n",
      "1805\n",
      "1842\n",
      "1881\n",
      "1919\n",
      "1956\n",
      "1993\n",
      "2030\n",
      "2068\n",
      "2106\n",
      "2144\n",
      "2181\n",
      "2218\n",
      "2255\n",
      "2294\n",
      "2332\n",
      "2368\n",
      "2405\n",
      "2442\n",
      "2481\n",
      "2518\n",
      "2556\n",
      "2594\n",
      "2631\n",
      "2669\n",
      "2706\n",
      "2743\n",
      "2780\n",
      "2817\n",
      "2854\n",
      "2891\n",
      "2928\n",
      "2965\n",
      "3002\n"
     ]
    }
   ],
   "source": [
    "import time\n",
    "\n",
    "# off = 0\n",
    "# news_list = []\n",
    "while len(news_list) < 3000:\n",
    "    try:\n",
    "        conn = httplib.HTTPSConnection('api.cognitive.microsoft.com')\n",
    "        conn.request(\"GET\", \"/bing/v5.0/news/search?%s\" % (params[:-2] + str(off)), \"{body}\", headers)\n",
    "        response = conn.getresponse()\n",
    "        data = response.read()\n",
    "        #print(data)\n",
    "        conn.close()\n",
    "        j = json.loads(data)\n",
    "        \n",
    "        news_list = news_list + j['value']\n",
    "        \n",
    "        time.sleep(10)\n",
    "        off = len(news_list)\n",
    "        print off\n",
    "    except Exception as e:\n",
    "        print(\"[Errno {0}] {1}\".format(e.errno, e.strerror))\n",
    "        \n",
    "    "
   ]
  },
  {
   "cell_type": "code",
   "execution_count": 17,
   "metadata": {
    "collapsed": true
   },
   "outputs": [],
   "source": [
    "import json\n",
    "j = json.loads(data)\n"
   ]
  },
  {
   "cell_type": "code",
   "execution_count": 27,
   "metadata": {
    "collapsed": false
   },
   "outputs": [
    {
     "data": {
      "text/plain": [
       "3002"
      ]
     },
     "execution_count": 27,
     "metadata": {},
     "output_type": "execute_result"
    }
   ],
   "source": [
    "len(news_list)"
   ]
  },
  {
   "cell_type": "code",
   "execution_count": 44,
   "metadata": {
    "collapsed": false
   },
   "outputs": [
    {
     "data": {
      "text/plain": [
       "{u'about': [{u'name': u'Milenio',\n",
       "   u'readLink': u'https://api.cognitive.microsoft.com/api/v5/entities/70831b42-a3c3-bcd0-82ca-5a52f5df560e'}],\n",
       " u'datePublished': u'2017-09-13T03:20:00',\n",
       " u'description': u'A propuesta del frente legislativo PAN-PRD-MC y del grupo parlamentario de Morena, el pleno de la C\\xe1mara de Diputados ... El proyecto de reformas suscrito por las fracciones del PRI, PVEM, Nueva Alianza y PES se inscribi\\xf3 en el orden del d\\xeda de la ...',\n",
       " u'image': {u'thumbnail': {u'contentUrl': u'https://www.bing.com/th?id=ON.DC6D142B75078451BC0D415235C55801&pid=News',\n",
       "   u'height': 101,\n",
       "   u'width': 146}},\n",
       " u'name': u'Diputados aplazan discusi\\xf3n sobre \\u2018pase autom\\xe1tico\\u2019 de fiscal',\n",
       " u'provider': [{u'_type': u'Organization', u'name': u'MILENIO'}],\n",
       " u'url': u'http://www.bing.com/cr?IG=CF0A273854174A06A6461634323BE66E&CID=10F6FBB88B3966FA31A0F1448A666741&rd=1&h=eknUz-p6iKY1qhpYptSHqlsgThrMNfbnGAjt7UlHyns&v=1&r=http%3a%2f%2fwww.milenio.com%2fpolitica%2fpase_automatico-fiscal_general-procurador-raul_cervantes-pan-prd-mc-pri_0_1028897354.html&p=DevEx,5010.1'}"
      ]
     },
     "execution_count": 44,
     "metadata": {},
     "output_type": "execute_result"
    }
   ],
   "source": [
    "news_list[1]"
   ]
  },
  {
   "cell_type": "markdown",
   "metadata": {},
   "source": [
    "Now we may want a pandas dataframe structure to handle/export data."
   ]
  },
  {
   "cell_type": "code",
   "execution_count": 28,
   "metadata": {
    "collapsed": true
   },
   "outputs": [],
   "source": [
    "import pandas as pd\n",
    "news_df = pd.DataFrame(news_list)"
   ]
  },
  {
   "cell_type": "code",
   "execution_count": 46,
   "metadata": {
    "collapsed": false
   },
   "outputs": [],
   "source": [
    "news_df.to_csv(path_or_buf=\"news_130917.csv\",index = False, encoding='UTF-8')"
   ]
  },
  {
   "cell_type": "code",
   "execution_count": null,
   "metadata": {
    "collapsed": true
   },
   "outputs": [],
   "source": []
  }
 ],
 "metadata": {
  "celltoolbar": "Raw Cell Format",
  "kernelspec": {
   "display_name": "Python 2",
   "language": "python",
   "name": "python2"
  },
  "language_info": {
   "codemirror_mode": {
    "name": "ipython",
    "version": 2
   },
   "file_extension": ".py",
   "mimetype": "text/x-python",
   "name": "python",
   "nbconvert_exporter": "python",
   "pygments_lexer": "ipython2",
   "version": "2.7.10"
  }
 },
 "nbformat": 4,
 "nbformat_minor": 2
}
